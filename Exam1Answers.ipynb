{
 "cells": [
  {
   "cell_type": "markdown",
   "metadata": {},
   "source": [
    "Problem 1 answer: \n",
    "I have created a copy of Locus_Germplasm_Phenotype_20130122.txt  called CopyLocus_Germplasm_Phenotype_20130122.txt.\n",
    "I have created a jupyter notebook called Exam1Answers using the 'bash' kernel"
   ]
  },
  {
   "cell_type": "markdown",
   "metadata": {},
   "source": [
    "Problem 2 answer:  I use the command ls  that will list the files with the permission information, the -l (+list-style) and the -h human-readable-size (in MB)"
   ]
  },
  {
   "cell_type": "code",
   "execution_count": null,
   "metadata": {},
   "outputs": [],
   "source": [
    "ls -l -h Locus_Germplasm_Phenotype_20130122.txt\n"
   ]
  },
  {
   "cell_type": "markdown",
   "metadata": {},
   "source": [
    "The permision of the file will be on the left and it means the document it can be read/write for user, read/write for group (in this case both are osboxes) and read for all (everyone). When you find this symbol \"-\" it means there is not permision. \n"
   ]
  },
  {
   "cell_type": "markdown",
   "metadata": {},
   "source": [
    "Problem 3 answer: The head of the file it is the first line, that's why I use the comand head -1 to display the first line of a file."
   ]
  },
  {
   "cell_type": "code",
   "execution_count": null,
   "metadata": {},
   "outputs": [],
   "source": [
    "echo \"the head of the file is:\" \n",
    "head -1 Locus_Germplasm_Phenotype_20130122.txt  \n"
   ]
  },
  {
   "cell_type": "markdown",
   "metadata": {},
   "source": [
    "Problem 4 answer: I use the command wc that will count the number of lines and -l means \"just the number of lines\" of the file."
   ]
  },
  {
   "cell_type": "code",
   "execution_count": null,
   "metadata": {},
   "outputs": [],
   "source": [
    "echo \"the total number of lines was:\"\n",
    "wc -l Locus_Germplasm_Phenotype_20130122.txt  \n",
    "\n"
   ]
  },
  {
   "cell_type": "markdown",
   "metadata": {},
   "source": [
    "Problem 5 answer: To count all the data lines except the header I substract the first line to the total of lines of the file. The command tail -7215 is used to display the last 7215 lines of the file and the > symbol will redirect them to a file called Data_only.csv .Finally , I use the comand wc -l to count the number of lines in the file without counting the header which is the line number one. That's wy I substract 1 to the total of lines in the file from the previous exercise."
   ]
  },
  {
   "cell_type": "code",
   "execution_count": null,
   "metadata": {},
   "outputs": [],
   "source": [
    "echo \"The number of data lines is:\"\n",
    "tail -7215 Locus_Germplasm_Phenotype_20130122.txt > Data_only.csv  \n",
    "wc -l Data_only.csv  \n"
   ]
  },
  {
   "cell_type": "markdown",
   "metadata": {},
   "source": [
    "Problem 6 answer: In this case I am going to display a list with the number of matches and the match. All the words that match \"root\" in plural, with comma or with space and thay can be upper or lowecase. For this reason,  the grep command will ask the file if it contains a set of characters: \"root\" including those with comma, dot and plural. The -E is used to look for extended regular expressions as the comma or dot. -i means \"insensitive to case\" so it will look for uppercase and lowercase characters.-n ask for the line number.-a \"handle binary files like text\" in case we do not how the characters are. \\sroot references to  the word \"root\" preceeded by one space.,? match a comma but it is optional,the \\.? match a dot but it is optional and the \\s match a space."
   ]
  },
  {
   "cell_type": "code",
   "execution_count": null,
   "metadata": {},
   "outputs": [],
   "source": [
    "grep -E -ina \"\\sroot\\,?\\.?\\s\" Locus_Germplasm_Phenotype_20130122.txt\n",
    "\n"
   ]
  },
  {
   "cell_type": "markdown",
   "metadata": {},
   "source": [
    "Problem 7 answer: I have used the previous search to look for the word root in plural, with comma or with dot.Then, \n",
    "The command grep -E -ioa will look for a certain set of characters that are upper or lowercase and have an A/a,a T/t, a number, a G/g and a total of 5 digits from 0 to 9 and after that they finish with a space.\n",
    "The pipe | will make the output of the first command will be the input of the next and with the redirection symbol(>) overwrite the results in a new file. \n",
    "So, we will get all the AGI codes with contains the word \"root\" and its variants this new file."
   ]
  },
  {
   "cell_type": "code",
   "execution_count": null,
   "metadata": {},
   "outputs": [],
   "source": [
    "grep -E -ina \"\\sroot\\,?\\.?\\s\" Locus_Germplasm_Phenotype_20130122.txt | grep -E -ioa 'AT[1-5]G\\w+5[0-9]\\s'  > Root-associated-Loci.txt \n",
    "cat Root-associated-Loci.txt "
   ]
  },
  {
   "cell_type": "markdown",
   "metadata": {},
   "source": [
    "Problem 8 answer: The PubMed IDs are a set of all digits (0-9) with a length unpredictable. I have used the same command to locate the lines with the words \"root\" with comma, dot and with a space that it is case insensitive that will take the words from the file Locus.....txt. Then, with the pipe | the output of the first command will be the input of the next. After that, I will select those set of caracters from 0-9 that appear one or more times at the end of the line and are preceeded by a space and I will copy then in a file called Root-associated-Publications.txt.\n",
    "Finally, I count the number of words."
   ]
  },
  {
   "cell_type": "code",
   "execution_count": null,
   "metadata": {},
   "outputs": [],
   "source": [
    "grep -E -ina \"\\sroot\\,?\\.?\\s\" Locus_Germplasm_Phenotype_20130122.txt | grep -E -oa '\\s[0-9]+$' > Root-associated-Publications.txt\n",
    "wc -l Root-associated-Publications.txt"
   ]
  },
  {
   "cell_type": "markdown",
   "metadata": {},
   "source": [
    "Problem 9 answer:"
   ]
  },
  {
   "cell_type": "markdown",
   "metadata": {},
   "source": [
    "If the genes associated with roots are found on all chromosomes it means that in the file Root-associated-Loci.txt there has to be genes corresponding to AT1, AT2, AT3, AT4 and AT5,  where the number 1,2,3,4 and 5 is the number of the chromosomes. Since, that file contained the file contains the AGI of root/s/,/. genes.\n",
    "There, I check with grep if there is an AT1,2,3,4,5 and then I redirect (>) the information to a new file called chromosomeX.txt in which the number X is the number of the chromosome and then I use wc -l to count the number of root genes asocciated on chromosomes 1,2,3,4 and 5.\n"
   ]
  },
  {
   "cell_type": "code",
   "execution_count": null,
   "metadata": {},
   "outputs": [],
   "source": [
    "echo \"The number of root genes asocciated with root on chromosomes 1,2,3,4 and 5 are:\"\n",
    "grep -E -i 'AT1' Root-associated-Loci.txt > chromosome1.txt | wc -l chromosome1.txt\n",
    "grep -E -i 'AT2' Root-associated-Loci.txt > chromosome2.txt | wc -l chromosome2.txt\n",
    "grep -E -i 'AT3' Root-associated-Loci.txt > chromosome3.txt| wc -l  chromosome3.txt\n",
    "grep -E -i 'AT4' Root-associated-Loci.txt > chromosome4.txt | wc -l chromosome4.txt\n",
    "grep -E -i 'AT5' Root-associated-Loci.txt > chromosome5.txt| wc -l chromosome5.txt\n",
    "\n",
    "\n",
    "\n"
   ]
  },
  {
   "cell_type": "markdown",
   "metadata": {},
   "source": [
    "The hypothesis is truth since there is at least one root genes associated to all the chromosomes (1,2,3,4 and 5)"
   ]
  },
  {
   "cell_type": "markdown",
   "metadata": {},
   "source": [
    "Problem 10 answer:"
   ]
  },
  {
   "cell_type": "markdown",
   "metadata": {},
   "source": [
    "The control experiment has shown genes on every chromosome, which means all phenotypes have a root gene associated to a chromosome.This could be because the root plays an important role in the development of a plant, in this case Arabidopsis, and contribute to the absoption of minerals and water from soil."
   ]
  },
  {
   "cell_type": "markdown",
   "metadata": {},
   "source": [
    "Problem 11 answer: "
   ]
  },
  {
   "cell_type": "markdown",
   "metadata": {},
   "source": [
    "I have used the commands \n",
    "git commit -m \"File named My Exam Answers with the answers of the Exam number 1\"\n",
    "git push "
   ]
  }
 ],
 "metadata": {
  "kernelspec": {
   "display_name": "Bash",
   "language": "bash",
   "name": "bash"
  },
  "language_info": {
   "codemirror_mode": "shell",
   "file_extension": ".sh",
   "mimetype": "text/x-sh",
   "name": "bash"
  }
 },
 "nbformat": 4,
 "nbformat_minor": 2
}
