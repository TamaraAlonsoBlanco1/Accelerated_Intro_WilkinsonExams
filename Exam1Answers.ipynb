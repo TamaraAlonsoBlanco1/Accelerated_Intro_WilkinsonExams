{
 "cells": [
  {
   "cell_type": "markdown",
   "metadata": {},
   "source": [
    "Problem 1 answer:"
   ]
  },
  {
   "cell_type": "code",
   "execution_count": null,
   "metadata": {},
   "outputs": [],
   "source": [
    "# I have created a new Folder called Exams in the cloned copy of Accelerated_Intro_WilkinsonExams folder\n",
    "#I have copied the Locus_Germplasm_Phenotype_20130122.txt into the Exams folder\n",
    "cp Locus_Germplasm_Phenotype_20130122.txt /Exams\n",
    "#I open jupyter notebook in the Exams folder \n",
    "jupyter notebook\n",
    "# I have created a new jupyter notebook using the 'bash' kernel and I have named it Exam_1_Answers "
   ]
  },
  {
   "cell_type": "markdown",
   "metadata": {},
   "source": [
    "Problem 2 answer:"
   ]
  },
  {
   "cell_type": "code",
   "execution_count": 1,
   "metadata": {},
   "outputs": [
    {
     "name": "stdout",
     "output_type": "stream",
     "text": [
      "-rw-rw-r-- 1 osboxes osboxes 1.2M Sep  6 19:46 Locus_Germplasm_Phenotype_20130122.txt\n"
     ]
    }
   ],
   "source": [
    "ls -l -h Locus_Germplasm_Phenotype_20130122.txt\n",
    "# ls will list the files with the permission information, the -l (+list-style) and the -h human-readable-size (in MB)"
   ]
  },
  {
   "cell_type": "markdown",
   "metadata": {},
   "source": [
    "Not a directory, read/write for user, read/write for group, read for all\n"
   ]
  },
  {
   "cell_type": "markdown",
   "metadata": {},
   "source": [
    "Problem 3 answer:"
   ]
  },
  {
   "cell_type": "code",
   "execution_count": null,
   "metadata": {},
   "outputs": [],
   "source": [
    "echo \"the head of the file is:\" #I use echo \"XXX\" it to make comments\n",
    "head -1 Locus_Germplasm_Phenotype_20130122.txt  \n",
    "# head -1 it is use to display the first line of a file, which is the head of the file"
   ]
  },
  {
   "cell_type": "markdown",
   "metadata": {},
   "source": [
    "Problem 4 answer:"
   ]
  },
  {
   "cell_type": "code",
   "execution_count": null,
   "metadata": {},
   "outputs": [],
   "source": [
    "echo \"the total number of lines was:\"\n",
    "wc -l Locus_Germplasm_Phenotype_20130122.txt  \n",
    "# wc  will count the numebr of lines and -l means \"just the number of lines\"\n"
   ]
  },
  {
   "cell_type": "markdown",
   "metadata": {},
   "source": [
    "Problem 5 answer:"
   ]
  },
  {
   "cell_type": "code",
   "execution_count": null,
   "metadata": {},
   "outputs": [],
   "source": [
    "echo \"The number of data lines is:\"\n",
    "tail -7215 Locus_Germplasm_Phenotype_20130122.txt > Data_only.csv \n",
    "# tail -7215 is used to display the last 7215 lines of the file and the > will redirect them to a file called Data_only.csv  \n",
    "wc -l Data_only.csv  \n",
    "# wc  will count the numebr of lines and -l means \"just the number of lines\" of the file "
   ]
  },
  {
   "cell_type": "code",
   "execution_count": null,
   "metadata": {},
   "outputs": [],
   "source": [
    "Problem 6 answer:"
   ]
  },
  {
   "cell_type": "markdown",
   "metadata": {},
   "source": [
    "In this case I am going to display a list with the number of the match and the match.  All the words that match \"root\" in plural, with comma or with space and thay can be upper or lowecase."
   ]
  },
  {
   "cell_type": "code",
   "execution_count": null,
   "metadata": {},
   "outputs": [],
   "source": [
    "grep -E -ia \"\\sroot\\,?\\.?\\s\" Locus_Germplasm_Phenotype_20130122.txt\n",
    "#grep command will ask the file if it contains a set of characters\"root\", the -E is used to look for extended regular expressions, \n",
    "#-i means \"insensitive to case\" so it will look for uppercase and lowercase characters.\n",
    "#-a \"handle binary files like text\" \n",
    "#\\sroot references to  the word \"root\" preceeded by one space\n",
    "#,? match a comma but it is optional (?)\n",
    "# \\.? match a dot but it is optional (?)\n",
    "#\\s match a space \n",
    "\n"
   ]
  },
  {
   "cell_type": "markdown",
   "metadata": {},
   "source": [
    "Problem 7 answer:"
   ]
  },
  {
   "cell_type": "code",
   "execution_count": null,
   "metadata": {},
   "outputs": [],
   "source": [
    "grep -E -ina \"\\sroot\\,?\\.?\\s\" Locus_Germplasm_Phenotype_20130122.txt | grep -E -ioa 'AT[1-5]G\\w+5[0-9]\\s'  > Root-associated-Loci.txt \n",
    "#the command grep -E -ina will look for a certain set of characters in the file \"\\sroot\\,?\\.?\\s\", #-i means \"insensitive to case\" so it will look for uppercase and lowercase characters., -n asks for the line number where there is a match and -a \"handle binary files like text\" and the list will be displayed.\n",
    "#\"\\sroot\\,?\\.?\\s\"  #\\sroot references to  the word \"root\" preceeded by one space, ,? match a comma but it is optional (?), \\.? match a dot but it is optional (?) and \\s match a space \n",
    "#  with | the information of the other command that contains AT(1-5)G followed by five characters from 0 to 9 will be store in the file .csv \n",
    "cat Root-associated-Loci.txt #this command is used to display the entire content of a file ."
   ]
  },
  {
   "cell_type": "markdown",
   "metadata": {},
   "source": [
    "Problem 8 answer:"
   ]
  },
  {
   "cell_type": "code",
   "execution_count": null,
   "metadata": {},
   "outputs": [],
   "source": [
    "#PubMed IDs are all digits (0-9) but the length of the ID is unpredictable.\n",
    "grep -E -ina \"\\sroot\\,?\\.?\\s\" Locus_Germplasm_Phenotype_20130122.txt | grep -E -ioa '\\s[0-9]+$' > Root-associated-Publications.txt\n",
    "cat Root-associated-Publications.txt\n",
    "# This code will take the words root, root. and roots case insensitive from the file Locus.....txt and ten,witht the pipe | the output of the first command will be the input of the next.\n",
    "#seleect those set of caracters from 0-9 that appear one or more times at the end of the line and are preceeded by a space and then "
   ]
  },
  {
   "cell_type": "markdown",
   "metadata": {},
   "source": [
    "Problem 9 answer:"
   ]
  },
  {
   "cell_type": "markdown",
   "metadata": {},
   "source": [
    "If the genes associated with roots are found on all chromosomes \n",
    "1) the number of AGI number should be the same in Locus_Germplasm_Phenotype_20130122.txt and Root-associated-Loci.txt since all the gens root are found on all the chromosomes.\n",
    "2) when checking one by one, there is a word root associated to AG (1-5)"
   ]
  },
  {
   "cell_type": "code",
   "execution_count": null,
   "metadata": {},
   "outputs": [],
   "source": [
    "#If the hypothesis is correct the number of AGI should be the same as the number of AGI in the Root-associated-Loci.txt\n",
    "\n",
    "grep -E -io 'AT1\\w+5[0-9]\\s' Locus_Germplasm_Phenotype_20130122.txt | wc -l\n",
    "\n",
    "grep -E -io 'AT[1-5]'Root-associated-Loci.txt | wc -l\n",
    "\n",
    "echo \"The number of genes asocciated with root on chromosomes 1,2,3,4 and 5 are:\"\n",
    "grep -E -io 'AT1' Root-associated-Loci.txt | wc -l\n",
    "grep -E -io 'AT2' Root-associated-Loci.txt | wc -l\n",
    "grep -E -io 'AT3' Root-associated-Loci.txt | wc -l\n",
    "grep -E -io 'AT4' Root-associated-Loci.txt | wc -l\n",
    "grep -E -io 'AT5' Root-associated-Loci.txt | wc -l\n",
    "\n"
   ]
  },
  {
   "cell_type": "code",
   "execution_count": null,
   "metadata": {},
   "outputs": [],
   "source": [
    "Problem 10 answer:"
   ]
  },
  {
   "cell_type": "code",
   "execution_count": null,
   "metadata": {},
   "outputs": [],
   "source": []
  },
  {
   "cell_type": "markdown",
   "metadata": {},
   "source": [
    "Problem 11 answer:"
   ]
  }
 ],
 "metadata": {
  "kernelspec": {
   "display_name": "Bash",
   "language": "bash",
   "name": "bash"
  },
  "language_info": {
   "codemirror_mode": "shell",
   "file_extension": ".sh",
   "mimetype": "text/x-sh",
   "name": "bash"
  }
 },
 "nbformat": 4,
 "nbformat_minor": 2
}
